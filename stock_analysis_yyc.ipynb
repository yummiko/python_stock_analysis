{
 "cells": [
  {
   "cell_type": "code",
   "execution_count": 130,
   "outputs": [],
   "source": [
    "#导入模块\n",
    "import  numpy as np # numpy 库用于矩阵运算\n",
    "import pandas as pd # pandas 库用于读取数据\n",
    "from   pandas import DataFrame\n",
    "import matplotlib.pyplot as plt # matplotlib.pyplot 库用于数据可视化\n",
    "import baostock as bs # 用于获取股票数据\n",
    "import ydata_profiling # 用于数据探索\n",
    "from ydata_profiling import * # 用于数据探索\n",
    "import datetime # 用于时间处理\n",
    "import time # 用于时间处理\n"
   ],
   "metadata": {
    "collapsed": false,
    "ExecuteTime": {
     "end_time": "2023-10-02T09:23:14.873055900Z",
     "start_time": "2023-10-02T09:23:14.848468Z"
    }
   },
   "id": "initial_id"
  },
  {
   "cell_type": "code",
   "execution_count": 10,
   "outputs": [
    {
     "name": "stdout",
     "output_type": "stream",
     "text": [
      "login success!\n",
      "login respond error_code:0\n",
      "login respond  error_msg:success\n",
      "query_history_k_data_plus respond error_code:0\n",
      "query_history_k_data_plus respond  error_msg:success\n",
      "            date       code       open       high        low      close  \\\n",
      "0     1990-12-19  sh.000001    96.0500    99.9800    95.7900    99.9800   \n",
      "1     1990-12-20  sh.000001   104.3000   104.3900    99.9800   104.3900   \n",
      "2     1990-12-21  sh.000001   109.0700   109.1300   103.7300   109.1300   \n",
      "3     1990-12-24  sh.000001   113.5700   114.5500   109.1300   114.5500   \n",
      "4     1990-12-25  sh.000001   120.0900   120.2500   114.5500   120.2500   \n",
      "...          ...        ...        ...        ...        ...        ...   \n",
      "8005  2023-09-22  sh.000001  3084.7567  3132.5578  3078.8007  3132.4316   \n",
      "8006  2023-09-25  sh.000001  3131.2079  3131.2079  3112.1505  3115.6071   \n",
      "8007  2023-09-26  sh.000001  3114.0214  3120.2889  3102.2726  3102.2726   \n",
      "8008  2023-09-27  sh.000001  3104.0395  3125.4470  3103.8441  3107.3156   \n",
      "8009  2023-09-28  sh.000001  3117.7549  3121.8352  3105.9397  3110.4753   \n",
      "\n",
      "       preclose       volume             amount adjustflag      turn  \\\n",
      "0        0.0000         1260        494000.0000          3  0.000000   \n",
      "1        0.0000        19700         84992.0000          3  0.000000   \n",
      "2      104.3900         2800         16096.0000          3  0.000000   \n",
      "3      109.1300         3200         31063.0000          3  0.000000   \n",
      "4      114.5500         1500          6510.0000          3  0.000000   \n",
      "...         ...          ...                ...        ...       ...   \n",
      "8005  3084.7010  28597835100  321443778943.2000          3  0.650042   \n",
      "8006  3132.4316  25807188500  294635829637.9000          3  0.586306   \n",
      "8007  3115.6071  22264431300  270006131018.9000          3  0.505514   \n",
      "8008  3102.2726  24049583000  293421022407.0000          3  0.546016   \n",
      "8009  3107.3156  23632998100  288396222754.4000          3  0.536449   \n",
      "\n",
      "     tradestatus     pctChg isST  \n",
      "0              1   0.000000    0  \n",
      "1              1   0.000000    0  \n",
      "2              1   4.540663    0  \n",
      "3              1   4.966559    0  \n",
      "4              1   4.975990    0  \n",
      "...          ...        ...  ...  \n",
      "8005           1   1.547333    0  \n",
      "8006           1  -0.537107    0  \n",
      "8007           1  -0.427990    0  \n",
      "8008           1   0.162558    0  \n",
      "8009           1   0.101686    0  \n",
      "\n",
      "[8010 rows x 14 columns]\n"
     ]
    }
   ],
   "source": [
    "#### 获取沪深A股历史K线数据 ####\n",
    "# 详细指标参数，参见“历史行情指标参数”章节；“分钟线”参数与“日线”参数不同。“分钟线”不包含指数。\n",
    "# 分钟线指标：date,time,code,open,high,low,close,volume,amount,adjustflag\n",
    "# 周月线指标：date,code,open,high,low,close,volume,amount,adjustflag,turn,pctChg\n",
    "# 以下函数默认获取上证综合指数从2023-01-01开始，到2023-01-31结束的日K线数据，仅用作测试接口是否正常。正式使用时，可以调整get_stock_data函数的参数。\n",
    "# 其中code为股票代码，默认为sh.000001，即上证综合指数。start_date为开始日期，默认为2023-01-01。end_date为结束日期，默认为2023-01-31。\n",
    "\n",
    "def get_stock_data(code='sh.000001', index:str = \"\" , start_date = '2023-01-01', end_date = '2023-01-31'):\n",
    "    # 登陆系统\n",
    "    lg = bs.login()\n",
    "    # 显示登陆返回信息\n",
    "    print('login respond error_code:' + lg.error_code)\n",
    "    print('login respond  error_msg:' + lg.error_msg)\n",
    "\n",
    "    # 获取沪深A股历史K线数据\n",
    "    stock_code = code\n",
    "    stock_start_date = start_date #baostock包可以获取1990年12月19日的所有数据\n",
    "    stock_end_date = end_date\n",
    "    if index:\n",
    "        stock_index = index\n",
    "    else:\n",
    "        stock_index = \"date,code,open,high,low,close,preclose,volume,amount,adjustflag,turn,tradestatus,pctChg,isST\"\n",
    "    \"\"\"\n",
    "    date:  交易日日期\n",
    "    code:  股票代码\n",
    "    open:  开盘价\n",
    "    high:  最高价\n",
    "    low:   最低价\n",
    "    close: 收盘价\n",
    "    preclose: 前收盘价 说明：http://baostock.com/baostock/index.php/A%E8%82%A1K%E7%BA%BF%E6%95%B0%E6%8D%AE\n",
    "    volume:\t成交量（累计 单位：股）\t\n",
    "    amount:\t成交额（单位：人民币元）\t\n",
    "    adjustflag: 复权状态(1：后复权， 2：前复权，3：不复权）\t\n",
    "    turn:   换手率 [指定交易日的成交量(股)/指定交易日的股票的流通股总股数(股)]*100%\n",
    "    tradestatus: 交易状态(1：正常交易 0：停牌）\t\n",
    "    pctChg:\t涨跌幅（百分比）\t日涨跌幅=[(指定交易日的收盘价-指定交易日前收盘价)/指定交易日前收盘价]*100%\n",
    "    peTTM:\t滚动市盈率\t(指定交易日的股票收盘价/指定交易日的每股盈余TTM)=(指定交易日的股票收盘价*截至当日公司总股本)/归属母公司股东净利润TTM\n",
    "    pbMRQ:\t市净率\t(指定交易日的股票收盘价/指定交易日的每股净资产)=总市值/(最近披露的归属母公司股东的权益-其他权益工具)\n",
    "    psTTM:  滚动市销率\t(指定交易日的股票收盘价/指定交易日的每股销售额)=(指定交易日的股票收盘价*截至当日公司总股本)/营业总收入TTM\n",
    "    pcfNcfTTM: 滚动市现率\t(指定交易日的股票收盘价/指定交易日的每股现金流TTM)=(指定交易日的股票收盘价*截至当日公司总股本)/现金以及现金等价物净增加额TTM\n",
    "    isST: 是否ST股，1是，0否\n",
    "    \n",
    "    \"\"\"\n",
    "    \n",
    "    rs = bs.query_history_k_data_plus(stock_code, stock_index, start_date = stock_start_date, end_date = stock_end_date, frequency = 'd', adjustflag = '3')\n",
    "    # frequency：数据类型，默认为d，日k线；d=日k线、w=周、m=月、5=5分钟、15=15分钟、30=30分钟、60=60分钟k线数据，不区分大小写；指数没有分钟线数据；周线每周最后一个交易日才可以获取，月线每月最后一个交易日才可以获取。\n",
    "    # adjustflag：复权类型，默认不复权：3；1：后复权；2：前复权。已支持分钟线、日线、周线、月线前后复权。 BaoStock提供的是涨跌幅复权算法复权因子，具体介绍见：复权因子简介或者BaoStock复权因子简介。\n",
    "    print('query_history_k_data_plus respond error_code:'+rs.error_code)\n",
    "    print('query_history_k_data_plus respond  error_msg:'+rs.error_msg)\n",
    "\n",
    "    #### 打印结果集 ####\n",
    "    data_list = []\n",
    "    while (rs.error_code == '0') & rs.next():\n",
    "        # 获取一条记录，将记录合并在一起\n",
    "        data_list.append(rs.get_row_data())\n",
    "    result = pd.DataFrame(data_list, columns=rs.fields)\n",
    "    #### 结果集输出到csv文件 ####\n",
    "    result.to_csv(f\".\\history_k_data{stock_code}{start_date}{end_date}.csv\", encoding=\"gbk\", index=False)\n",
    "    print(result)\n",
    "    \n",
    "get_stock_data(start_date=\"1990-12-19\",end_date=\"2023-10-2\")"
   ],
   "metadata": {
    "collapsed": false,
    "ExecuteTime": {
     "end_time": "2023-10-02T05:19:11.660802600Z",
     "start_time": "2023-10-02T05:19:08.303530100Z"
    }
   },
   "id": "a46b4d49ced71117"
  },
  {
   "cell_type": "code",
   "execution_count": 136,
   "outputs": [
    {
     "data": {
      "text/plain": "                 code       open       high        low      close   preclose  \\\ndate                                                                           \n1990-12-19  sh.000001    96.0500    99.9800    95.7900    99.9800     0.0000   \n1990-12-20  sh.000001   104.3000   104.3900    99.9800   104.3900     0.0000   \n1990-12-21  sh.000001   109.0700   109.1300   103.7300   109.1300   104.3900   \n1990-12-24  sh.000001   113.5700   114.5500   109.1300   114.5500   109.1300   \n1990-12-25  sh.000001   120.0900   120.2500   114.5500   120.2500   114.5500   \n...               ...        ...        ...        ...        ...        ...   \n2023-09-22  sh.000001  3084.7567  3132.5578  3078.8007  3132.4316  3084.7010   \n2023-09-25  sh.000001  3131.2079  3131.2079  3112.1505  3115.6071  3132.4316   \n2023-09-26  sh.000001  3114.0214  3120.2889  3102.2726  3102.2726  3115.6071   \n2023-09-27  sh.000001  3104.0395  3125.4470  3103.8441  3107.3156  3102.2726   \n2023-09-28  sh.000001  3117.7549  3121.8352  3105.9397  3110.4753  3107.3156   \n\n                 volume        amount  adjustflag      turn  tradestatus  \\\ndate                                                                       \n1990-12-19         1260  4.940000e+05           3  0.000000            1   \n1990-12-20        19700  8.499200e+04           3  0.000000            1   \n1990-12-21         2800  1.609600e+04           3  0.000000            1   \n1990-12-24         3200  3.106300e+04           3  0.000000            1   \n1990-12-25         1500  6.510000e+03           3  0.000000            1   \n...                 ...           ...         ...       ...          ...   \n2023-09-22  28597835100  3.214438e+11           3  0.650042            1   \n2023-09-25  25807188500  2.946358e+11           3  0.586306            1   \n2023-09-26  22264431300  2.700061e+11           3  0.505514            1   \n2023-09-27  24049583000  2.934210e+11           3  0.546016            1   \n2023-09-28  23632998100  2.883962e+11           3  0.536449            1   \n\n              pctChg  isST  \ndate                        \n1990-12-19  0.000000   0.0  \n1990-12-20  0.000000   0.0  \n1990-12-21  4.540663   0.0  \n1990-12-24  4.966559   0.0  \n1990-12-25  4.975990   0.0  \n...              ...   ...  \n2023-09-22  1.547333   0.0  \n2023-09-25 -0.537107   0.0  \n2023-09-26 -0.427990   0.0  \n2023-09-27  0.162558   0.0  \n2023-09-28  0.101686   0.0  \n\n[8010 rows x 13 columns]",
      "text/html": "<div>\n<style scoped>\n    .dataframe tbody tr th:only-of-type {\n        vertical-align: middle;\n    }\n\n    .dataframe tbody tr th {\n        vertical-align: top;\n    }\n\n    .dataframe thead th {\n        text-align: right;\n    }\n</style>\n<table border=\"1\" class=\"dataframe\">\n  <thead>\n    <tr style=\"text-align: right;\">\n      <th></th>\n      <th>code</th>\n      <th>open</th>\n      <th>high</th>\n      <th>low</th>\n      <th>close</th>\n      <th>preclose</th>\n      <th>volume</th>\n      <th>amount</th>\n      <th>adjustflag</th>\n      <th>turn</th>\n      <th>tradestatus</th>\n      <th>pctChg</th>\n      <th>isST</th>\n    </tr>\n    <tr>\n      <th>date</th>\n      <th></th>\n      <th></th>\n      <th></th>\n      <th></th>\n      <th></th>\n      <th></th>\n      <th></th>\n      <th></th>\n      <th></th>\n      <th></th>\n      <th></th>\n      <th></th>\n      <th></th>\n    </tr>\n  </thead>\n  <tbody>\n    <tr>\n      <th>1990-12-19</th>\n      <td>sh.000001</td>\n      <td>96.0500</td>\n      <td>99.9800</td>\n      <td>95.7900</td>\n      <td>99.9800</td>\n      <td>0.0000</td>\n      <td>1260</td>\n      <td>4.940000e+05</td>\n      <td>3</td>\n      <td>0.000000</td>\n      <td>1</td>\n      <td>0.000000</td>\n      <td>0.0</td>\n    </tr>\n    <tr>\n      <th>1990-12-20</th>\n      <td>sh.000001</td>\n      <td>104.3000</td>\n      <td>104.3900</td>\n      <td>99.9800</td>\n      <td>104.3900</td>\n      <td>0.0000</td>\n      <td>19700</td>\n      <td>8.499200e+04</td>\n      <td>3</td>\n      <td>0.000000</td>\n      <td>1</td>\n      <td>0.000000</td>\n      <td>0.0</td>\n    </tr>\n    <tr>\n      <th>1990-12-21</th>\n      <td>sh.000001</td>\n      <td>109.0700</td>\n      <td>109.1300</td>\n      <td>103.7300</td>\n      <td>109.1300</td>\n      <td>104.3900</td>\n      <td>2800</td>\n      <td>1.609600e+04</td>\n      <td>3</td>\n      <td>0.000000</td>\n      <td>1</td>\n      <td>4.540663</td>\n      <td>0.0</td>\n    </tr>\n    <tr>\n      <th>1990-12-24</th>\n      <td>sh.000001</td>\n      <td>113.5700</td>\n      <td>114.5500</td>\n      <td>109.1300</td>\n      <td>114.5500</td>\n      <td>109.1300</td>\n      <td>3200</td>\n      <td>3.106300e+04</td>\n      <td>3</td>\n      <td>0.000000</td>\n      <td>1</td>\n      <td>4.966559</td>\n      <td>0.0</td>\n    </tr>\n    <tr>\n      <th>1990-12-25</th>\n      <td>sh.000001</td>\n      <td>120.0900</td>\n      <td>120.2500</td>\n      <td>114.5500</td>\n      <td>120.2500</td>\n      <td>114.5500</td>\n      <td>1500</td>\n      <td>6.510000e+03</td>\n      <td>3</td>\n      <td>0.000000</td>\n      <td>1</td>\n      <td>4.975990</td>\n      <td>0.0</td>\n    </tr>\n    <tr>\n      <th>...</th>\n      <td>...</td>\n      <td>...</td>\n      <td>...</td>\n      <td>...</td>\n      <td>...</td>\n      <td>...</td>\n      <td>...</td>\n      <td>...</td>\n      <td>...</td>\n      <td>...</td>\n      <td>...</td>\n      <td>...</td>\n      <td>...</td>\n    </tr>\n    <tr>\n      <th>2023-09-22</th>\n      <td>sh.000001</td>\n      <td>3084.7567</td>\n      <td>3132.5578</td>\n      <td>3078.8007</td>\n      <td>3132.4316</td>\n      <td>3084.7010</td>\n      <td>28597835100</td>\n      <td>3.214438e+11</td>\n      <td>3</td>\n      <td>0.650042</td>\n      <td>1</td>\n      <td>1.547333</td>\n      <td>0.0</td>\n    </tr>\n    <tr>\n      <th>2023-09-25</th>\n      <td>sh.000001</td>\n      <td>3131.2079</td>\n      <td>3131.2079</td>\n      <td>3112.1505</td>\n      <td>3115.6071</td>\n      <td>3132.4316</td>\n      <td>25807188500</td>\n      <td>2.946358e+11</td>\n      <td>3</td>\n      <td>0.586306</td>\n      <td>1</td>\n      <td>-0.537107</td>\n      <td>0.0</td>\n    </tr>\n    <tr>\n      <th>2023-09-26</th>\n      <td>sh.000001</td>\n      <td>3114.0214</td>\n      <td>3120.2889</td>\n      <td>3102.2726</td>\n      <td>3102.2726</td>\n      <td>3115.6071</td>\n      <td>22264431300</td>\n      <td>2.700061e+11</td>\n      <td>3</td>\n      <td>0.505514</td>\n      <td>1</td>\n      <td>-0.427990</td>\n      <td>0.0</td>\n    </tr>\n    <tr>\n      <th>2023-09-27</th>\n      <td>sh.000001</td>\n      <td>3104.0395</td>\n      <td>3125.4470</td>\n      <td>3103.8441</td>\n      <td>3107.3156</td>\n      <td>3102.2726</td>\n      <td>24049583000</td>\n      <td>2.934210e+11</td>\n      <td>3</td>\n      <td>0.546016</td>\n      <td>1</td>\n      <td>0.162558</td>\n      <td>0.0</td>\n    </tr>\n    <tr>\n      <th>2023-09-28</th>\n      <td>sh.000001</td>\n      <td>3117.7549</td>\n      <td>3121.8352</td>\n      <td>3105.9397</td>\n      <td>3110.4753</td>\n      <td>3107.3156</td>\n      <td>23632998100</td>\n      <td>2.883962e+11</td>\n      <td>3</td>\n      <td>0.536449</td>\n      <td>1</td>\n      <td>0.101686</td>\n      <td>0.0</td>\n    </tr>\n  </tbody>\n</table>\n<p>8010 rows × 13 columns</p>\n</div>"
     },
     "execution_count": 136,
     "metadata": {},
     "output_type": "execute_result"
    }
   ],
   "source": [
    "stock_dataframe = pd.read_csv(\"history_k_datash.0000011990-12-192023-10-2.csv\")\n",
    "stock_dataframe['date'] = pd.to_datetime(stock_dataframe['date'])\n",
    "stock_dataframe.set_index(\"date\", inplace=True)\n",
    "stock_dataframe"
   ],
   "metadata": {
    "collapsed": false,
    "ExecuteTime": {
     "end_time": "2023-10-02T09:34:38.264661600Z",
     "start_time": "2023-10-02T09:34:38.167720700Z"
    }
   },
   "id": "2530ed63d1359935"
  }
 ],
 "metadata": {
  "kernelspec": {
   "display_name": "Python 3",
   "language": "python",
   "name": "python3"
  },
  "language_info": {
   "codemirror_mode": {
    "name": "ipython",
    "version": 2
   },
   "file_extension": ".py",
   "mimetype": "text/x-python",
   "name": "python",
   "nbconvert_exporter": "python",
   "pygments_lexer": "ipython2",
   "version": "2.7.6"
  }
 },
 "nbformat": 4,
 "nbformat_minor": 5
}
