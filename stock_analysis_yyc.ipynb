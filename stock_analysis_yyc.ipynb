{
 "cells": [
  {
   "cell_type": "code",
   "execution_count": 1,
   "outputs": [],
   "source": [
    "#导入模块\n",
    "import  numpy as np # numpy 库用于矩阵运算\n",
    "import pandas as pd # pandas 库用于读取数据\n",
    "import matplotlib.pyplot as plt # matplotlib.pyplot 库用于数据可视化\n",
    "import baostock as bs # 用于获取股票数据\n",
    "import ydata_profiling # 用于数据探索\n",
    "from ydata_profiling import * # 用于数据探索\n",
    "import datetime # 用于时间处理\n",
    "import time # 用于时间处理\n"
   ],
   "metadata": {
    "collapsed": false,
    "ExecuteTime": {
     "end_time": "2023-09-27T06:58:16.274385600Z",
     "start_time": "2023-09-27T06:57:33.279649100Z"
    }
   },
   "id": "initial_id"
  },
  {
   "cell_type": "code",
   "execution_count": 4,
   "outputs": [
    {
     "name": "stdout",
     "output_type": "stream",
     "text": [
      "login success!\n",
      "login respond error_code:0\n",
      "login respond  error_msg:success\n",
      "query_history_k_data_plus respond error_code:0\n",
      "query_history_k_data_plus respond  error_msg:success\n",
      "          date       code       open       high        low      close  \\\n",
      "0   2023-01-03  sh.000001  3087.5130  3119.8556  3073.0540  3116.5119   \n",
      "1   2023-01-04  sh.000001  3117.5711  3129.0937  3109.4512  3123.5164   \n",
      "2   2023-01-05  sh.000001  3132.7614  3159.4270  3130.2300  3155.2162   \n",
      "3   2023-01-06  sh.000001  3155.0747  3170.7418  3151.8407  3157.6365   \n",
      "4   2023-01-09  sh.000001  3169.3737  3183.5830  3165.4282  3176.0845   \n",
      "5   2023-01-10  sh.000001  3178.0220  3178.1569  3165.1446  3169.5072   \n",
      "6   2023-01-11  sh.000001  3172.3759  3184.7570  3160.8896  3161.8376   \n",
      "7   2023-01-12  sh.000001  3167.2730  3171.5905  3153.4038  3163.4509   \n",
      "8   2023-01-13  sh.000001  3170.3548  3195.3067  3167.5098  3195.3059   \n",
      "9   2023-01-16  sh.000001  3198.5189  3251.3739  3197.3186  3227.5916   \n",
      "10  2023-01-17  sh.000001  3229.4354  3231.2645  3211.7573  3224.2448   \n",
      "11  2023-01-18  sh.000001  3227.5947  3234.8169  3220.3703  3224.4060   \n",
      "12  2023-01-19  sh.000001  3221.5179  3240.2794  3210.3825  3240.2794   \n",
      "13  2023-01-20  sh.000001  3247.2031  3267.0579  3247.2031  3264.8138   \n",
      "14  2023-01-30  sh.000001  3308.8694  3310.4903  3266.7580  3269.3180   \n",
      "15  2023-01-31  sh.000001  3266.1442  3277.2524  3252.0145  3255.6692   \n",
      "\n",
      "     preclose       volume             amount adjustflag      turn  \\\n",
      "0   3089.2579  28137036200  331392138948.0000          3  0.679096   \n",
      "1   3116.5119  27331362600  316391228728.0000          3  0.659633   \n",
      "2   3123.5164  25700301800  335635934527.5000          3  0.620143   \n",
      "3   3155.2162  25738025500  338539843686.6000          3  0.621013   \n",
      "4   3157.6365  25811521800  342693770974.1000          3  0.622661   \n",
      "5   3176.0845  23298417500  310357698608.4000          3  0.562036   \n",
      "6   3169.5072  23774286900  309248892854.4000          3  0.573515   \n",
      "7   3161.8376  21667130500  275371843343.4000          3  0.522007   \n",
      "8   3163.4509  22022689700  288062499132.3000          3  0.530552   \n",
      "9   3195.3059  30674954900  413219640959.9000          3  0.734966   \n",
      "10  3227.5916  22659223000  302611778528.6000          3  0.542882   \n",
      "11  3224.2448  21210973000  266068176682.4000          3  0.508156   \n",
      "12  3224.4060  22646503000  296815557255.9000          3  0.542519   \n",
      "13  3240.2794  27321918200  329028168424.9000          3  0.654522   \n",
      "14  3264.8138  35332582900  453177014110.3000          3  0.844411   \n",
      "15  3269.3180  30016295700  375260749568.7000          3  0.717357   \n",
      "\n",
      "   tradestatus     pctChg isST  \n",
      "0            1   0.882218    0  \n",
      "1            1   0.224754    0  \n",
      "2            1   1.014875    0  \n",
      "3            1   0.076708    0  \n",
      "4            1   0.584234    0  \n",
      "5            1  -0.207088    0  \n",
      "6            1  -0.241981    0  \n",
      "7            1   0.051024    0  \n",
      "8            1   1.006970    0  \n",
      "9            1   1.010410    0  \n",
      "10           1  -0.103693    0  \n",
      "11           1   0.005000    0  \n",
      "12           1   0.492289    0  \n",
      "13           1   0.757169    0  \n",
      "14           1   0.137962    0  \n",
      "15           1  -0.417482    0  \n"
     ]
    }
   ],
   "source": [
    "#### 获取沪深A股历史K线数据 ####\n",
    "# 详细指标参数，参见“历史行情指标参数”章节；“分钟线”参数与“日线”参数不同。“分钟线”不包含指数。\n",
    "# 分钟线指标：date,time,code,open,high,low,close,volume,amount,adjustflag\n",
    "# 周月线指标：date,code,open,high,low,close,volume,amount,adjustflag,turn,pctChg\n",
    "# 以下函数默认获取上证综合指数从2023-01-01开始，到2023-01-31结束的日K线数据，仅用作测试接口是否正常。正式使用时，可以调整get_stock_data函数的参数。\n",
    "# 其中code为股票代码，默认为sh.000001，即上证综合指数。start_date为开始日期，默认为2023-01-01。end_date为结束日期，默认为2023-01-31。\n",
    "\n",
    "def get_stock_data(code='sh.000001', start_date = '2023-01-01', end_date = '2023-01-31'):\n",
    "    # 登陆系统\n",
    "    lg = bs.login()\n",
    "    # 显示登陆返回信息\n",
    "    print('login respond error_code:' + lg.error_code)\n",
    "    print('login respond  error_msg:' + lg.error_msg)\n",
    "\n",
    "    # 获取沪深A股历史K线数据\n",
    "    stock_code = code\n",
    "    stock_start_date = start_date\n",
    "    stock_end_date = end_date\n",
    "    stock_index = \"date,code,open,high,low,close,preclose,volume,amount,adjustflag,turn,tradestatus,pctChg,isST\"\n",
    "    rs = bs.query_history_k_data_plus(stock_code, stock_index, start_date = stock_start_date, end_date = stock_end_date, frequency = 'd', adjustflag = '3')\n",
    "    print('query_history_k_data_plus respond error_code:'+rs.error_code)\n",
    "    print('query_history_k_data_plus respond  error_msg:'+rs.error_msg)\n",
    "\n",
    "    #### 打印结果集 ####\n",
    "    data_list = []\n",
    "    while (rs.error_code == '0') & rs.next():\n",
    "        # 获取一条记录，将记录合并在一起\n",
    "        data_list.append(rs.get_row_data())\n",
    "    result = pd.DataFrame(data_list, columns=rs.fields)\n",
    "    #### 结果集输出到csv文件 ####\n",
    "    result.to_csv(f\".\\history_k_data{stock_code}{start_date}{end_date}.csv\", encoding=\"gbk\", index=False)\n",
    "    print(result)\n",
    "    \n",
    "get_stock_data()"
   ],
   "metadata": {
    "collapsed": false,
    "ExecuteTime": {
     "end_time": "2023-09-27T07:23:17.834879400Z",
     "start_time": "2023-09-27T07:23:16.822326200Z"
    }
   },
   "id": "a46b4d49ced71117"
  }
 ],
 "metadata": {
  "kernelspec": {
   "display_name": "Python 3",
   "language": "python",
   "name": "python3"
  },
  "language_info": {
   "codemirror_mode": {
    "name": "ipython",
    "version": 2
   },
   "file_extension": ".py",
   "mimetype": "text/x-python",
   "name": "python",
   "nbconvert_exporter": "python",
   "pygments_lexer": "ipython2",
   "version": "2.7.6"
  }
 },
 "nbformat": 4,
 "nbformat_minor": 5
}
