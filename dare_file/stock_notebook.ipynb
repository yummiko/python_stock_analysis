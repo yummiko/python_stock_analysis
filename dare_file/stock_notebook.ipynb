{
 "cells": [
  {
   "cell_type": "markdown",
   "metadata": {},
   "source": [
    "# A股数据分析\n",
    "\n",
    "  **通过对A股数据可视化，通过沪深A股的行情数据和一些技术指标的观察研究，制定 选股策略（分类/预测/业务因子），通过算法预测走势，最后制定交易策略完成仿真回测研究**\n",
    "  \n",
    " # 具体操作流程如下：\n",
    " \n",
    "1. 数据获取\n",
    "2. 预处理\n",
    "3. 可视化观察\n",
    "4. 选股\n",
    "- 选取指标\n",
    "- 特征提取\n",
    "- 制定选股策略\n",
    "- 完成选股\n",
    "\n",
    "5. 预测走势\n",
    "- 选取数据\n",
    "- 预处理\n",
    "- 多个预测算法尝试\n",
    "- 评估算法效果\n",
    "- 结果可视化\n",
    "\n",
    "6、交易策略\n",
    "- 历史+预测生成Baseline\n",
    "- 制定选股策略\n",
    "- 仿真回测\n",
    "- 评估效果\n",
    "\n",
    "7、场景应用"
   ]
  },
  {
   "cell_type": "markdown",
   "metadata": {},
   "source": [
    "# 1、数据获取\n",
    "\n",
    "使用  **baostock**\n",
    "链接：http://baostock.com/baostock/index.php/Python_API%E6%96%87%E6%A1%A3"
   ]
  },
  {
   "cell_type": "code",
   "execution_count": null,
   "metadata": {},
   "outputs": [],
   "source": [
    "import baostock as bs\n",
    "import pandas as pd\n",
    "import os\n",
    "import datetime\n",
    "\n",
    "def mkdir(directory):\n",
    "    if not os.path.exists(directory):\n",
    "        os.makedirs(directory)\n",
    "        print('success makedir')\n",
    "\n",
    "class Downloader(object):\n",
    "    def __init__(self,\n",
    "                 output_dir,\n",
    "                 date_start='1990-01-01'):\n",
    "        # 初始化，连接服务\n",
    "        self._bs = bs\n",
    "        bs.login()\n",
    "        # 开始日期\n",
    "        self.date_start = date_start   \n",
    "        # 结束日期\n",
    "        self.date_end = datetime.datetime.now().strftime(\"%Y-%m-%d\")\n",
    "        # 获取股票code的日期\n",
    "        self.date_check_code = '2023-09-28'\n",
    "        # 输出文件夹\n",
    "        self.output_dir = output_dir\n",
    "        # 获取数据字段（列名）\n",
    "        self.fields = \"date,code,open,high,low,close,volume,amount,\" \\\n",
    "                      \"adjustflag,turn,tradestatus,pctChg,peTTM,\" \\\n",
    "                      \"pbMRQ,psTTM,pcfNcfTTM,isST\"\n",
    "\n",
    "    def exit(self):\n",
    "        # 退出服务\n",
    "        bs.logout()\n",
    "\n",
    "    def get_codes_by_date(self, date):\n",
    "        # 查询所有的股票代码\n",
    "        stock_rs = bs.query_all_stock(date)\n",
    "        stock_df = stock_rs.get_data()\n",
    "        print(stock_df)\n",
    "        return stock_df\n",
    "\n",
    "    def run(self):\n",
    "        # 主程序\n",
    "        # 1、获取股票 code\n",
    "        stock_df = self.get_codes_by_date(self.date_check_code)\n",
    "        # 遍历查询每一个 code\n",
    "        for index, row in stock_df.iterrows():\n",
    "            # 不要北京交易所的数据\n",
    "            if 'bj' in row[\"code\"]:\n",
    "                continue\n",
    "            print(f'processing {row[\"code\"]} {row[\"code_name\"]}')\n",
    "            # 获取股票数据\n",
    "            df_code = bs.query_history_k_data_plus(row[\"code\"], self.fields,\n",
    "                                                   start_date=self.date_start,\n",
    "                                                   end_date=self.date_end).get_data()\n",
    "            # 导出为 csv\n",
    "            df_code.to_csv(f'{self.output_dir}/{row[\"code\"]}.{row[\"code_name\"]}.csv', index=False)\n",
    "        self.exit()\n",
    "\n",
    "if __name__ == '__main__':\n",
    "    # 获取全部股票的日K线数据\n",
    "    mkdir('./stockdata/')\n",
    "    OUTPUT = './stockdata'\n",
    "    downloader = Downloader('./stockdata', date_start='2000-01-01')\n",
    "    downloader.run()"
   ]
  },
  {
   "cell_type": "markdown",
   "metadata": {},
   "source": [
    "## 结果输出如下图\n",
    "![jupyter](./1.png)\n",
    "\n",
    "最后在本地生成文件夹：'./stockdata'\n",
    "里面保存一个个下载的 csv文件"
   ]
  },
  {
   "cell_type": "markdown",
   "metadata": {},
   "source": [
    "# 2、预处理"
   ]
  },
  {
   "cell_type": "code",
   "execution_count": 2,
   "metadata": {},
   "outputs": [
    {
     "name": "stdout",
     "output_type": "stream",
     "text": [
      "./stockdata\n"
     ]
    },
    {
     "data": {
      "image/png": "[encoded data removed]",
      "text/plain": [
       "<Figure size 720x432 with 1 Axes>"
      ]
     },
     "metadata": {
      "needs_background": "light"
     },
     "output_type": "display_data"
    },
    {
     "name": "stdout",
     "output_type": "stream",
     "text": [
      "合并完成。\n"
     ]
    },
    {
     "data": {
      "text/plain": [
       "<Figure size 432x288 with 0 Axes>"
      ]
     },
     "metadata": {},
     "output_type": "display_data"
    }
   ],
   "source": [
    "import os\n",
    "import pandas as pd\n",
    "import matplotlib.pyplot as plt\n",
    "import threading\n",
    "\n",
    "class Combined():\n",
    "    def __init__(self):\n",
    "        self.folder_path = './stockdata'\n",
    "        self.combined_csv_path = './combined.csv'\n",
    "        self.lock = threading.Lock()  # 在构造函数中定义 lock 变量\n",
    "\n",
    "    def get_size(self):\n",
    "        # 指定文件夹路径\n",
    "        print(self.folder_path)\n",
    "        folder_path = self.folder_path\n",
    "\n",
    "        # 获取文件夹内所有文件的信息\n",
    "        file_info = []\n",
    "        for filename in os.listdir(folder_path):\n",
    "            file_path = os.path.join(folder_path, filename)\n",
    "            if os.path.isfile(file_path):\n",
    "                # 获取文件大小（以字节为单位）\n",
    "                file_size_bytes = os.path.getsize(file_path)\n",
    "                file_info.append({'Filename': filename, 'Size': file_size_bytes})\n",
    "\n",
    "        # 将信息转换为DataFrame\n",
    "        file_info_df = pd.DataFrame(file_info)\n",
    "        file_info_df = file_info_df[file_info_df['Size'] >= 100]\n",
    "        return file_info_df\n",
    "\n",
    "    def combine_csv(self,df):\n",
    "        # 文件夹路径\n",
    "        folder_path = self.folder_path\n",
    "        output_file = self.combined_csv_path\n",
    "        # 创建一个锁，以确保线程安全\n",
    "        # 合并CSV文件的函数\n",
    "        def merge_csv(file):\n",
    "            df = pd.read_csv(os.path.join(folder_path, file))\n",
    "            with self.lock:\n",
    "                df.to_csv(output_file, mode='a', header=False, index=False)\n",
    "        # 创建线程列表\n",
    "        threads = []\n",
    "        # 创建并启动线程\n",
    "        for index, row in df.iterrows():\n",
    "            file = row['Filename']\n",
    "            thread = threading.Thread(target=merge_csv, args=(file,))\n",
    "            threads.append(thread)\n",
    "            thread.start()\n",
    "\n",
    "        # 等待所有线程完成\n",
    "        for thread in threads:\n",
    "            thread.join()\n",
    "\n",
    "        print(\"合并完成。\")\n",
    "\n",
    "\n",
    "    def plot_hist(self,df):\n",
    "        # 按文件大小排序\n",
    "        sorted_df = df.sort_values(by='Size', ascending=False)\n",
    "        # 绘制直方图\n",
    "        plt.figure(figsize=(10, 6))\n",
    "        plt.hist(sorted_df['Size'], bins=20, edgecolor='k')\n",
    "        plt.title('File Size Distribution')\n",
    "        plt.xlabel('File Size')\n",
    "        plt.ylabel('Frequency')\n",
    "        plt.grid(True)\n",
    "        plt.show()\n",
    "        plt.savefig('./File_size_distributing.png')\n",
    "\n",
    "\n",
    "\n",
    "\n",
    "    def run(self):\n",
    "        # 1、排除空文件\n",
    "        df = self.get_size()\n",
    "        # 观察文件大小 画图,观察分布\n",
    "        self.plot_hist(df)\n",
    "        # 删除空的文文件:  rm ./bj.*\n",
    "        # 切割 code 及对应的 name\n",
    "        # df[['jy','code_num', 'name']] = df['Filename'].str.split('.', expand=True)[[0,1, 2]]\n",
    "        # df['code'] = df['jy'].astype(str) + '.' + df['code_num'].astype(str)\n",
    "        # 2、多线程合并成一个csv，便于读取\n",
    "        self.combine_csv(df)\n",
    "\n",
    "\n",
    "\n",
    "if __name__ == '__main__':\n",
    "    main= Combined()\n",
    "    main.run()"
   ]
  },
  {
   "cell_type": "code",
   "execution_count": null,
   "metadata": {},
   "outputs": [],
   "source": []
  }
 ],
 "metadata": {
  "kernelspec": {
   "display_name": "Python 3",
   "language": "python",
   "name": "python3"
  },
  "language_info": {
   "codemirror_mode": {
    "name": "ipython",
    "version": 3
   },
   "file_extension": ".py",
   "mimetype": "text/x-python",
   "name": "python",
   "nbconvert_exporter": "python",
   "pygments_lexer": "ipython3",
   "version": "3.8.5"
  }
 },
 "nbformat": 4,
 "nbformat_minor": 4
}
