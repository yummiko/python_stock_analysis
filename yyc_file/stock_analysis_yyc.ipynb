{
 "cells": [
  {
   "cell_type": "code",
   "execution_count": null,
   "id": "initial_id",
   "metadata": {
    "ExecuteTime": {
     "end_time": "2023-10-28T01:06:07.411757Z",
     "start_time": "2023-10-28T01:06:00.948285Z"
    }
   },
   "outputs": [],
   "source": [
    "#导入模块\n",
    "import  numpy as np # numpy 库用于矩阵运算\n",
    "import pandas as pd # pandas 库用于读取数据\n",
    "from   pandas import DataFrame\n",
    "import plotly # plotly 库用于绘制动态图形\n",
    "import plotly.express as px # plotly.express 库用于绘制动态图形\n",
    "import plotly.graph_objects as go # plotly.graph_objects 库用于绘制动态图形\n",
    "import baostock as bs # 用于获取股票数据\n",
    "import ydata_profiling # 用于数据探索\n",
    "from ydata_profiling import * # 用于数据探索\n",
    "import datetime # 用于时间处理\n",
    "import time # 用于时间处理\n"
   ]
  },
  {
   "cell_type": "code",
   "execution_count": null,
   "id": "a46b4d49ced71117",
   "metadata": {
    "ExecuteTime": {
     "end_time": "2023-10-28T01:06:14.587043Z",
     "start_time": "2023-10-28T01:06:07.408558Z"
    }
   },
   "outputs": [],
   "source": [
    "#### 获取沪深A股历史K线数据 ####\n",
    "# 详细指标参数，参见“历史行情指标参数”章节；“分钟线”参数与“日线”参数不同。“分钟线”不包含指数。\n",
    "# 分钟线指标：date,time,code,open,high,low,close,volume,amount,adjustflag\n",
    "# 周月线指标：date,code,open,high,low,close,volume,amount,adjustflag,turn,pctChg\n",
    "# 以下函数默认获取上证综合指数从2023-01-01开始，到2023-01-31结束的日K线数据，仅用作测试接口是否正常。正式使用时，可以调整get_stock_data函数的参数。\n",
    "# 其中code为股票代码，默认为sh.000001，即上证综合指数。start_date为开始日期，默认为2023-01-01。end_date为结束日期，默认为2023-01-31。\n",
    "\n",
    "def get_stock_data(code='sz.000002', index:str = \"\" , start_date = '2023-01-01', end_date = '2023-01-31'):\n",
    "    # 登陆系统\n",
    "    lg = bs.login()\n",
    "    # 显示登陆返回信息\n",
    "    print('login respond error_code:' + lg.error_code)\n",
    "    print('login respond  error_msg:' + lg.error_msg)\n",
    "\n",
    "    # 获取沪深A股历史K线数据\n",
    "    stock_code = code\n",
    "    stock_start_date = start_date #baostock包可以获取1990年12月19日的所有数据\n",
    "    stock_end_date = end_date\n",
    "    if index:\n",
    "        stock_index = index\n",
    "    else:\n",
    "        stock_index = \"date,code,open,high,low,close,preclose,volume,amount,adjustflag,turn,tradestatus,pctChg,isST\"\n",
    "    \"\"\"\n",
    "    date:  交易日日期\n",
    "    code:  股票代码\n",
    "    open:  开盘价\n",
    "    high:  最高价\n",
    "    low:   最低价\n",
    "    close: 收盘价\n",
    "    preclose: 前收盘价 说明：http://baostock.com/baostock/index.php/A%E8%82%A1K%E7%BA%BF%E6%95%B0%E6%8D%AE\n",
    "    volume:\t成交量（累计 单位：股）\t\n",
    "    amount:\t成交额（单位：人民币元）\t\n",
    "    adjustflag: 复权状态(1：后复权， 2：前复权，3：不复权）\t\n",
    "    turn:   换手率 [指定交易日的成交量(股)/指定交易日的股票的流通股总股数(股)]*100%\n",
    "    tradestatus: 交易状态(1：正常交易 0：停牌）\t\n",
    "    pctChg:\t涨跌幅（百分比）\t日涨跌幅=[(指定交易日的收盘价-指定交易日前收盘价)/指定交易日前收盘价]*100%\n",
    "    peTTM:\t滚动市盈率\t(指定交易日的股票收盘价/指定交易日的每股盈余TTM)=(指定交易日的股票收盘价*截至当日公司总股本)/归属母公司股东净利润TTM\n",
    "    pbMRQ:\t市净率\t(指定交易日的股票收盘价/指定交易日的每股净资产)=总市值/(最近披露的归属母公司股东的权益-其他权益工具)\n",
    "    psTTM:  滚动市销率\t(指定交易日的股票收盘价/指定交易日的每股销售额)=(指定交易日的股票收盘价*截至当日公司总股本)/营业总收入TTM\n",
    "    pcfNcfTTM: 滚动市现率\t(指定交易日的股票收盘价/指定交易日的每股现金流TTM)=(指定交易日的股票收盘价*截至当日公司总股本)/现金以及现金等价物净增加额TTM\n",
    "    isST: 是否ST股，1是，0否\n",
    "    \n",
    "    \"\"\"\n",
    "    \n",
    "    rs = bs.query_history_k_data_plus(stock_code, stock_index, start_date = stock_start_date, end_date = stock_end_date, frequency = 'd', adjustflag = '3')\n",
    "    # frequency：数据类型，默认为d，日k线；d=日k线、w=周、m=月、5=5分钟、15=15分钟、30=30分钟、60=60分钟k线数据，不区分大小写；指数没有分钟线数据；周线每周最后一个交易日才可以获取，月线每月最后一个交易日才可以获取。\n",
    "    # adjustflag：复权类型，默认不复权：3；1：后复权；2：前复权。已支持分钟线、日线、周线、月线前后复权。 BaoStock提供的是涨跌幅复权算法复权因子，具体介绍见：复权因子简介或者BaoStock复权因子简介。\n",
    "    print('query_history_k_data_plus respond error_code:'+rs.error_code)\n",
    "    print('query_history_k_data_plus respond  error_msg:'+rs.error_msg)\n",
    "\n",
    "    #### 打印结果集 ####\n",
    "    data_list = []\n",
    "    while (rs.error_code == '0') & rs.next():\n",
    "        # 获取一条记录，将记录合并在一起\n",
    "        data_list.append(rs.get_row_data())\n",
    "    result = pd.DataFrame(data_list, columns=rs.fields)\n",
    "    #### 结果集输出到csv文件 ####\n",
    "    result.to_csv(f\".\\history_k_data{stock_code} f{start_date}t{end_date}.csv\", encoding=\"gbk\", index=False)\n",
    "    print(result)\n",
    "    \n",
    "get_stock_data(start_date=\"1990-12-19\",end_date=\"2023-10-2\")"
   ]
  },
  {
   "cell_type": "code",
   "execution_count": null,
   "id": "2530ed63d1359935",
   "metadata": {
    "ExecuteTime": {
     "end_time": "2023-10-28T01:06:14.634167Z",
     "start_time": "2023-10-28T01:06:14.585685Z"
    }
   },
   "outputs": [],
   "source": [
    "stock_dataframe = pd.read_csv(\".\\history_k_datasz.000002 f1990-12-19t2023-10-2.csv\")\n",
    "stock_dataframe['date'] = pd.to_datetime(stock_dataframe['date'])\n",
    "stock_dataframe.set_index(\"date\", inplace=True)\n",
    "# 增加 5日 10日 20日 60日 120日 200日均线\n",
    "stock_dataframe['mean5'] = stock_dataframe.close.rolling(5).mean()\n",
    "stock_dataframe['mean10'] = stock_dataframe.close.rolling(10).mean()\n",
    "stock_dataframe['mean20'] = stock_dataframe.close.rolling(20).mean()\n",
    "stock_dataframe['mean60'] = stock_dataframe.close.rolling(60).mean()\n",
    "stock_dataframe['mean120'] = stock_dataframe.close.rolling(120).mean()\n",
    "stock_dataframe['mean200'] = stock_dataframe.close.rolling(200).mean()\n",
    "stock_dataframe"
   ]
  },
  {
   "cell_type": "markdown",
   "id": "95c9864bcf84863e",
   "metadata": {
    "collapsed": false
   },
   "source": [
    "## 可视化显示股票收盘价"
   ]
  },
  {
   "cell_type": "code",
   "execution_count": null,
   "id": "6db38c23f33551b7",
   "metadata": {
    "ExecuteTime": {
     "end_time": "2023-10-28T01:06:15.199825Z",
     "start_time": "2023-10-28T01:06:14.609764Z"
    }
   },
   "outputs": [],
   "source": [
    "fig_close = px.line(stock_dataframe, x=stock_dataframe.index, y=\"close\", \n",
    "              template=\"plotly_dark\",  title=\"股票收盘价\",\n",
    "              hover_data=[stock_dataframe.index,'open','close','high','low'],\n",
    "              width=970, height=700,\n",
    "              range_x=['1990-12-19','1993-12-18'])\n",
    "fig_close.update_xaxes(ticklabelmode=\"period\",minor=dict(ticks=\"inside\", showgrid=True,ticklen=4,  \n",
    "                     dtick=7*24*60*60*1000,  \n",
    "                     tick0=\"1991-01-28\"))\n",
    "fig_close.show()\n"
   ]
  },
  {
   "cell_type": "code",
   "execution_count": null,
   "id": "5eb488c493fd7320",
   "metadata": {
    "ExecuteTime": {
     "end_time": "2023-10-28T01:06:15.873298Z",
     "start_time": "2023-10-28T01:06:15.091751Z"
    }
   },
   "outputs": [],
   "source": [
    "fig_candle =  go.Figure(data=[go.Candlestick(x=stock_dataframe.index, # 绘制蜡烛图\n",
    "                                             open=stock_dataframe.open, high=stock_dataframe.high, \n",
    "                                             close=stock_dataframe.close, low=stock_dataframe.low,\n",
    "                                             name='日线'),\n",
    "                              # 绘制均线\n",
    "                              go.Scatter(x=stock_dataframe.index, y=stock_dataframe.mean5, name='MA5'),\n",
    "                              go.Scatter(x=stock_dataframe.index, y=stock_dataframe.mean10, name='MA10'), \n",
    "                              go.Scatter(x=stock_dataframe.index, y=stock_dataframe.mean20, name='MA20'),\n",
    "                              go.Scatter(x=stock_dataframe.index, y=stock_dataframe.mean60, name='MA60'),\n",
    "                              go.Scatter(x=stock_dataframe.index, y=stock_dataframe.mean120, name='MA120'),\n",
    "                              go.Scatter(x=stock_dataframe.index, y=stock_dataframe.mean200, name='MA200'),],\n",
    "                               layout=go.Layout(title=f\"股票{stock_dataframe.code[0]}  K线图\",autosize=True))\n",
    "fig_candle.update_layout(xaxis_range=[datetime.datetime(1990, 12, 19),\n",
    "                               datetime.datetime(1993, 12, 18)])\n",
    "fig_candle.show()"
   ]
  },
  {
   "cell_type": "code",
   "execution_count": null,
   "id": "78a12127cf39522f",
   "metadata": {
    "ExecuteTime": {
     "end_time": "2023-10-28T01:06:15.874052Z",
     "start_time": "2023-10-28T01:06:15.858897Z"
    }
   },
   "outputs": [],
   "source": [
    "# 增加这段注释测试git filter"
   ]
  }
 ],
 "metadata": {
  "kernelspec": {
   "display_name": "Python 3",
   "language": "python",
   "name": "python3"
  },
  "language_info": {
   "codemirror_mode": {
    "name": "ipython",
    "version": 2
   },
   "file_extension": ".py",
   "mimetype": "text/x-python",
   "name": "python",
   "nbconvert_exporter": "python",
   "pygments_lexer": "ipython2",
   "version": "2.7.6"
  }
 },
 "nbformat": 4,
 "nbformat_minor": 5
}
